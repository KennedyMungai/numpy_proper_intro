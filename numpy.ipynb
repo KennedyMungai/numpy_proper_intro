{
 "cells": [
  {
   "attachments": {},
   "cell_type": "markdown",
   "metadata": {},
   "source": [
    "<h1>Numpy Boi!!!!</h1>"
   ]
  },
  {
   "cell_type": "code",
   "execution_count": 3,
   "metadata": {},
   "outputs": [],
   "source": [
    "import numpy as np"
   ]
  },
  {
   "cell_type": "code",
   "execution_count": 2,
   "metadata": {},
   "outputs": [
    {
     "name": "stderr",
     "output_type": "stream",
     "text": [
      "2023-05-18 09:09:00.459713: I tensorflow/tsl/cuda/cudart_stub.cc:28] Could not find cuda drivers on your machine, GPU will not be used.\n",
      "2023-05-18 09:09:00.812560: I tensorflow/tsl/cuda/cudart_stub.cc:28] Could not find cuda drivers on your machine, GPU will not be used.\n",
      "2023-05-18 09:09:00.822055: I tensorflow/core/platform/cpu_feature_guard.cc:182] This TensorFlow binary is optimized to use available CPU instructions in performance-critical operations.\n",
      "To enable the following instructions: AVX2 FMA, in other operations, rebuild TensorFlow with the appropriate compiler flags.\n",
      "2023-05-18 09:09:02.586032: W tensorflow/compiler/tf2tensorrt/utils/py_utils.cc:38] TF-TRT Warning: Could not find TensorRT\n"
     ]
    },
    {
     "name": "stdout",
     "output_type": "stream",
     "text": [
      "2.12.0\n"
     ]
    }
   ],
   "source": [
    "import tensorflow as tf\n",
    "print(tf.__version__)"
   ]
  },
  {
   "cell_type": "code",
   "execution_count": 6,
   "metadata": {},
   "outputs": [
    {
     "name": "stdout",
     "output_type": "stream",
     "text": [
      "[10 12 14 16 20 25]\n",
      "int64\n",
      "8\n"
     ]
    }
   ],
   "source": [
    "my_array = np.array([10,12,14,16,20,25])\n",
    "print(my_array)\n",
    "print(my_array.dtype)\n",
    "print(my_array.dtype.itemsize)"
   ]
  },
  {
   "cell_type": "code",
   "execution_count": 7,
   "metadata": {},
   "outputs": [
    {
     "name": "stdout",
     "output_type": "stream",
     "text": [
      "['Red' 'Green' 'Orange']\n",
      "<U6\n",
      "24\n"
     ]
    }
   ],
   "source": [
    "strings_array = np.array([\"Red\", \"Green\", 'Orange'])\n",
    "print(strings_array)\n",
    "print(strings_array.dtype)\n",
    "print(strings_array.dtype.itemsize)"
   ]
  },
  {
   "cell_type": "code",
   "execution_count": 8,
   "metadata": {},
   "outputs": [
    {
     "name": "stdout",
     "output_type": "stream",
     "text": [
      "['1990-10-04' '1989-05-06' '1990-11-04']\n",
      "<U10\n",
      "40\n"
     ]
    }
   ],
   "source": [
    "dates_array = np.array([\"1990-10-04\", \"1989-05-06\", \"1990-11-04\"])\n",
    "print(dates_array)\n",
    "print(dates_array.dtype)\n",
    "print(dates_array.dtype.itemsize)"
   ]
  },
  {
   "cell_type": "code",
   "execution_count": 10,
   "metadata": {},
   "outputs": [
    {
     "name": "stdout",
     "output_type": "stream",
     "text": [
      "['1990-10-04' '1989-05-06' '1990-11-04']\n",
      "datetime64[D]\n",
      "8\n"
     ]
    }
   ],
   "source": [
    "proper_dates_array = dates_array.astype(\"M\")\n",
    "print(proper_dates_array)\n",
    "print(proper_dates_array.dtype)\n",
    "print(proper_dates_array.dtype.itemsize)"
   ]
  },
  {
   "cell_type": "code",
   "execution_count": 11,
   "metadata": {},
   "outputs": [
    {
     "name": "stdout",
     "output_type": "stream",
     "text": [
      "['1990-10-04' '1990-10-05' '1990-10-06' '1990-10-07']\n",
      "datetime64[D]\n",
      "8\n"
     ]
    }
   ],
   "source": [
    "predefined_datetime = np.array([\"1990-10-04\", \"1990-10-05\", \"1990-10-06\", \"1990-10-07\"],  dtype=np.datetime64)\n",
    "\n",
    "print(predefined_datetime)\n",
    "print(predefined_datetime.dtype)\n",
    "print(predefined_datetime.dtype.itemsize)"
   ]
  },
  {
   "cell_type": "code",
   "execution_count": 12,
   "metadata": {},
   "outputs": [
    {
     "data": {
      "text/plain": [
       "numpy.ndarray"
      ]
     },
     "execution_count": 12,
     "metadata": {},
     "output_type": "execute_result"
    }
   ],
   "source": [
    "nums_list = [10,12,14,16,20]\n",
    "nums_array = np.array(nums_list)\n",
    "type(nums_array)"
   ]
  },
  {
   "cell_type": "code",
   "execution_count": 13,
   "metadata": {},
   "outputs": [
    {
     "data": {
      "text/plain": [
       "(3, 3)"
      ]
     },
     "execution_count": 13,
     "metadata": {},
     "output_type": "execute_result"
    }
   ],
   "source": [
    "row1 = [10,12,13]\n",
    "row2 = [45,32,16]\n",
    "row3 = [2,3,4]\n",
    "\n",
    "nums_2d = np.array([row1,row2,row3])\n",
    "nums_2d.shape"
   ]
  },
  {
   "cell_type": "code",
   "execution_count": 15,
   "metadata": {},
   "outputs": [
    {
     "name": "stdout",
     "output_type": "stream",
     "text": [
      "[ 5  6  7  8  9 10]\n"
     ]
    }
   ],
   "source": [
    "nums = np.arange(5,11)\n",
    "print(nums)"
   ]
  },
  {
   "cell_type": "code",
   "execution_count": 16,
   "metadata": {},
   "outputs": [
    {
     "name": "stdout",
     "output_type": "stream",
     "text": [
      "[5 7 9]\n"
     ]
    }
   ],
   "source": [
    "nums_2 = np.arange(5,11,2)\n",
    "print(nums_2)"
   ]
  },
  {
   "cell_type": "code",
   "execution_count": 17,
   "metadata": {},
   "outputs": [
    {
     "name": "stdout",
     "output_type": "stream",
     "text": [
      "[1. 1. 1. 1. 1. 1.]\n"
     ]
    }
   ],
   "source": [
    "num_ones = np.ones(6)\n",
    "print(num_ones)"
   ]
  },
  {
   "attachments": {},
   "cell_type": "markdown",
   "metadata": {},
   "source": [
    "<p>A bunch of random numbers with uniform distribution</p>"
   ]
  },
  {
   "cell_type": "code",
   "execution_count": 27,
   "metadata": {},
   "outputs": [
    {
     "name": "stdout",
     "output_type": "stream",
     "text": [
      "[[0.56168583 0.79888642 0.21936402 0.5530308  0.20102644]\n",
      " [0.54626212 0.25261165 0.16338875 0.79234289 0.80955967]\n",
      " [0.6129445  0.12352328 0.74075768 0.07973316 0.86727606]\n",
      " [0.78763185 0.89488529 0.71429571 0.40693475 0.59362954]]\n"
     ]
    }
   ],
   "source": [
    "uniform_random = np.random.rand(4,5)\n",
    "print(uniform_random)"
   ]
  },
  {
   "attachments": {},
   "cell_type": "markdown",
   "metadata": {},
   "source": [
    "<p>Numbers with a normal distribution</p>"
   ]
  },
  {
   "cell_type": "code",
   "execution_count": 20,
   "metadata": {},
   "outputs": [
    {
     "name": "stdout",
     "output_type": "stream",
     "text": [
      "[[ 1.25089304  0.26540633  0.58826603 -0.51280678 -0.52504578]\n",
      " [ 2.01673263 -0.44888395 -0.15462405 -0.07774187 -0.6450154 ]\n",
      " [ 0.06938973 -0.63403504  2.35959277 -0.46280415 -0.41295903]\n",
      " [-0.42680964 -1.19585864  1.66534235  0.19525684  1.22741604]]\n"
     ]
    }
   ],
   "source": [
    "normal_random = np.random.randn(4,5)\n",
    "print(normal_random)"
   ]
  },
  {
   "attachments": {},
   "cell_type": "markdown",
   "metadata": {},
   "source": [
    "<p>Generate a bunch of random integers</p>"
   ]
  },
  {
   "cell_type": "code",
   "execution_count": 21,
   "metadata": {},
   "outputs": [
    {
     "name": "stdout",
     "output_type": "stream",
     "text": [
      "[45 41 36 15 49]\n"
     ]
    }
   ],
   "source": [
    "integer_random = np.random.randint(10, 50, 5)\n",
    "print(integer_random)"
   ]
  },
  {
   "cell_type": "code",
   "execution_count": 24,
   "metadata": {},
   "outputs": [
    {
     "name": "stdout",
     "output_type": "stream",
     "text": [
      "1\n"
     ]
    }
   ],
   "source": [
    "print(integer_random.ndim)"
   ]
  },
  {
   "cell_type": "code",
   "execution_count": 30,
   "metadata": {},
   "outputs": [
    {
     "name": "stdout",
     "output_type": "stream",
     "text": [
      "2\n",
      "(4, 5)\n"
     ]
    }
   ],
   "source": [
    "print(uniform_random.ndim)\n",
    "print(uniform_random.shape)"
   ]
  },
  {
   "cell_type": "code",
   "execution_count": 33,
   "metadata": {},
   "outputs": [
    {
     "name": "stdout",
     "output_type": "stream",
     "text": [
      "['Red' 'Green' 'Blue']\n",
      "['Red' 'Green' 'Blue' 'Orange']\n"
     ]
    }
   ],
   "source": [
    "colors_array = np.array([\"Red\", \"Green\", \"Blue\"])\n",
    "print(colors_array)\n",
    "updated_colors_array = np.append(colors_array, \"Orange\")\n",
    "print(updated_colors_array)"
   ]
  },
  {
   "attachments": {},
   "cell_type": "markdown",
   "metadata": {},
   "source": [
    "<h2>Numpy Array Manipulation<h2>"
   ]
  },
  {
   "cell_type": "code",
   "execution_count": 36,
   "metadata": {},
   "outputs": [
    {
     "name": "stdout",
     "output_type": "stream",
     "text": [
      "Unsorted Array\n",
      "[15 11  2 16 11  9 12  3 12  5]\n",
      "/n\n",
      "Sorted Array\n",
      "[ 2  3  5  9 11 11 12 12 15 16]\n"
     ]
    }
   ],
   "source": [
    "print(\"Unsorted Array\")\n",
    "rand_int_array = np.random.randint(1,20,10)\n",
    "print(rand_int_array)\n",
    "print(\"/n\")\n",
    "print(\"Sorted Array\")\n",
    "sorted_int_array = np.sort(rand_int_array)\n",
    "print(sorted_int_array)"
   ]
  },
  {
   "cell_type": "code",
   "execution_count": 38,
   "metadata": {},
   "outputs": [
    {
     "name": "stdout",
     "output_type": "stream",
     "text": [
      "Random unsorted colors array\n",
      "['Red' 'Green' 'Blue' 'Yellow']\n",
      "Sorted colors array\n",
      "['Blue' 'Green' 'Red' 'Yellow']\n"
     ]
    }
   ],
   "source": [
    "print(\"Random unsorted colors array\")\n",
    "random_colors_array = np.array([\"Red\", \"Green\", \"Blue\", \"Yellow\"])\n",
    "print(random_colors_array)\n",
    "print(\"Sorted colors array\")\n",
    "sorted_colors_array = np.sort(random_colors_array)\n",
    "print(sorted_colors_array)"
   ]
  },
  {
   "attachments": {},
   "cell_type": "markdown",
   "metadata": {},
   "source": [
    "<p>Array Reshaping</p>"
   ]
  },
  {
   "cell_type": "code",
   "execution_count": 39,
   "metadata": {},
   "outputs": [
    {
     "name": "stdout",
     "output_type": "stream",
     "text": [
      "One dimensional array\n",
      "[19  7  8  3  7  1 16 10  6 13]\n",
      "Two dimensional array\n",
      "[[19  7  8  3  7]\n",
      " [ 1 16 10  6 13]]\n"
     ]
    }
   ],
   "source": [
    "print(\"One dimensional array\")\n",
    "one_d_array = np.random.randint(1, 20, 10)\n",
    "print(one_d_array)\n",
    "\n",
    "print(\"Two dimensional array\")\n",
    "two_d_array = one_d_array.reshape(2, 5)\n",
    "print(two_d_array)"
   ]
  },
  {
   "attachments": {},
   "cell_type": "markdown",
   "metadata": {},
   "source": [
    "<p>Higher Order Array Reshaping</p>"
   ]
  },
  {
   "cell_type": "code",
   "execution_count": 40,
   "metadata": {},
   "outputs": [
    {
     "name": "stdout",
     "output_type": "stream",
     "text": [
      "Two dimensional array\n",
      "[[13  4  6 19 16 19]\n",
      " [ 5  1 16 12  9  8]\n",
      " [ 4  8  2  8  2 17]\n",
      " [ 5 11 10  8  4 12]]\n",
      "Three dimensional array\n",
      "[[[13  4]\n",
      "  [ 6 19]\n",
      "  [16 19]\n",
      "  [ 5  1]]\n",
      "\n",
      " [[16 12]\n",
      "  [ 9  8]\n",
      "  [ 4  8]\n",
      "  [ 2  8]]\n",
      "\n",
      " [[ 2 17]\n",
      "  [ 5 11]\n",
      "  [10  8]\n",
      "  [ 4 12]]]\n"
     ]
    }
   ],
   "source": [
    "print(\"Two dimensional array\")\n",
    "two_d_array = np.random.randint(1, 20, size=(4, 6))\n",
    "print(two_d_array)\n",
    "\n",
    "print(\"Three dimensional array\")\n",
    "three_d_array = np.reshape(two_d_array, (3,4,2))\n",
    "print(three_d_array)"
   ]
  },
  {
   "cell_type": "code",
   "execution_count": 41,
   "metadata": {},
   "outputs": [
    {
     "name": "stdout",
     "output_type": "stream",
     "text": [
      "Two dimensional array\n",
      "[[6 7 9 8 1 9]\n",
      " [5 7 5 5 1 4]\n",
      " [8 0 0 4 7 8]\n",
      " [4 1 3 0 1 9]]\n",
      "One dimensional array\n",
      "[6 7 9 8 1 9 5 7 5 5 1 4 8 0 0 4 7 8 4 1 3 0 1 9]\n"
     ]
    }
   ],
   "source": [
    "print(\"Two dimensional array\")\n",
    "two_d_array = np.random.randint(0, 10, (4, 6))\n",
    "print(two_d_array)\n",
    "\n",
    "print(\"One dimensional array\")\n",
    "one_d_array = two_d_array.reshape(-1)\n",
    "print(one_d_array)"
   ]
  },
  {
   "cell_type": "code",
   "execution_count": 44,
   "metadata": {},
   "outputs": [
    {
     "name": "stdout",
     "output_type": "stream",
     "text": [
      "[ 1  2  3  4  5  6  7  8  9 10]\n",
      "2\n",
      "[3 4 5]\n"
     ]
    }
   ],
   "source": [
    "s = np.arange(1, 11)\n",
    "print(s)\n",
    "# Array indexed\n",
    "print(s[1])\n",
    "# Array slice\n",
    "print(s[2:5])"
   ]
  },
  {
   "attachments": {},
   "cell_type": "markdown",
   "metadata": {},
   "source": [
    "<p>Simple Broadcasting Example</p>"
   ]
  },
  {
   "cell_type": "code",
   "execution_count": 45,
   "metadata": {},
   "outputs": [
    {
     "name": "stdout",
     "output_type": "stream",
     "text": [
      "[[ 2 18 10  6]\n",
      " [12  8  1 12]\n",
      " [ 6  4 18  7]]\n",
      "[[ 5]\n",
      " [10]\n",
      " [20]]\n",
      "After Broadcasting\n",
      "[[ 7 23 15 11]\n",
      " [22 18 11 22]\n",
      " [26 24 38 27]]\n"
     ]
    }
   ],
   "source": [
    "array1 = np.random.randint(1, 20, (3, 4))\n",
    "print(array1)\n",
    "\n",
    "array2 = np.array([[5], [10], [20]])\n",
    "print(array2)\n",
    "\n",
    "print(\"After Broadcasting\")\n",
    "\n",
    "result = array1 + array2\n",
    "print(result)"
   ]
  },
  {
   "attachments": {},
   "cell_type": "markdown",
   "metadata": {},
   "source": [
    "<p>Copying Numpy Arrays</p>"
   ]
  },
  {
   "cell_type": "code",
   "execution_count": 46,
   "metadata": {},
   "outputs": [
    {
     "name": "stdout",
     "output_type": "stream",
     "text": [
      "[10 12 14 16 18 20]\n",
      "[10 20 14 16 18 20]\n"
     ]
    }
   ],
   "source": [
    "array1 = np.array([10, 12, 14, 16, 18, 20])\n",
    "array2 = array1.copy()\n",
    "array2[1] = 20\n",
    "\n",
    "print(array1)\n",
    "print(array2)"
   ]
  },
  {
   "attachments": {},
   "cell_type": "markdown",
   "metadata": {},
   "source": [
    "<p>I/O Operations</p>"
   ]
  },
  {
   "cell_type": "code",
   "execution_count": 47,
   "metadata": {},
   "outputs": [],
   "source": [
    "np.save(\"./my_array\", array1)"
   ]
  },
  {
   "cell_type": "code",
   "execution_count": 48,
   "metadata": {},
   "outputs": [
    {
     "name": "stdout",
     "output_type": "stream",
     "text": [
      "[10 12 14 16 18 20]\n"
     ]
    }
   ],
   "source": [
    "saved_array = np.load(\"./my_array.npy\")\n",
    "print(saved_array)"
   ]
  },
  {
   "attachments": {},
   "cell_type": "markdown",
   "metadata": {},
   "source": [
    "<h2>Statistical Operations</h2>"
   ]
  },
  {
   "attachments": {},
   "cell_type": "markdown",
   "metadata": {},
   "source": [
    "<p>Mean</p>"
   ]
  },
  {
   "cell_type": "code",
   "execution_count": 49,
   "metadata": {},
   "outputs": [
    {
     "name": "stdout",
     "output_type": "stream",
     "text": [
      "[ 2  4  6  8 10 12]\n",
      "Mean: \n",
      "7.0\n"
     ]
    }
   ],
   "source": [
    "my_array = np.array([2,4,6,8,10,12])\n",
    "print(my_array)\n",
    "print(\"Mean: \")\n",
    "print(np.mean(my_array))"
   ]
  },
  {
   "attachments": {},
   "cell_type": "markdown",
   "metadata": {},
   "source": [
    "<p>Two dimensional mean</p>"
   ]
  },
  {
   "cell_type": "code",
   "execution_count": 50,
   "metadata": {},
   "outputs": [
    {
     "name": "stdout",
     "output_type": "stream",
     "text": [
      "[[ 3 15  9]\n",
      " [ 7 10  3]]\n",
      "Mean: \n",
      "[9.         6.66666667]\n",
      "[ 5.  12.5  6. ]\n"
     ]
    }
   ],
   "source": [
    "two_d_array = np.random.randint(1, 20, (2,3))\n",
    "print(two_d_array)\n",
    "print(\"Mean: \")\n",
    "print(np.mean(two_d_array, axis=1))\n",
    "print(np.mean(two_d_array, axis=0))"
   ]
  },
  {
   "attachments": {},
   "cell_type": "markdown",
   "metadata": {},
   "source": [
    "<p>Median</p>"
   ]
  },
  {
   "cell_type": "code",
   "execution_count": 51,
   "metadata": {},
   "outputs": [
    {
     "name": "stdout",
     "output_type": "stream",
     "text": [
      "7.0\n"
     ]
    }
   ],
   "source": [
    "print(np.median(my_array))"
   ]
  },
  {
   "attachments": {},
   "cell_type": "markdown",
   "metadata": {},
   "source": [
    "<p>Two dimension median</p>"
   ]
  },
  {
   "cell_type": "code",
   "execution_count": 52,
   "metadata": {},
   "outputs": [
    {
     "name": "stdout",
     "output_type": "stream",
     "text": [
      "[9. 7.]\n",
      "[ 5.  12.5  6. ]\n"
     ]
    }
   ],
   "source": [
    "print(np.median(two_d_array, axis=1))\n",
    "print(np.median(two_d_array, axis=0))"
   ]
  },
  {
   "attachments": {},
   "cell_type": "markdown",
   "metadata": {},
   "source": [
    "<p>Min and Max values in an array</p>"
   ]
  },
  {
   "cell_type": "code",
   "execution_count": 53,
   "metadata": {},
   "outputs": [
    {
     "name": "stdout",
     "output_type": "stream",
     "text": [
      "Array Min\n",
      "2\n",
      "Array Max\n",
      "12\n"
     ]
    }
   ],
   "source": [
    "print(\"Array Min\")\n",
    "print(np.amin(my_array))\n",
    "print(\"Array Max\")\n",
    "print(np.amax(my_array))"
   ]
  },
  {
   "attachments": {},
   "cell_type": "markdown",
   "metadata": {},
   "source": [
    "<p>Min and Max values for two dimensions</p>"
   ]
  },
  {
   "cell_type": "code",
   "execution_count": 55,
   "metadata": {},
   "outputs": [
    {
     "name": "stdout",
     "output_type": "stream",
     "text": [
      "Min 0\n",
      "[3 3]\n",
      "Max 0\n",
      "[15 10]\n",
      "Min 1\n",
      "[ 3 10  3]\n",
      "Max 1\n",
      "[ 7 15  9]\n"
     ]
    }
   ],
   "source": [
    "print(\"Min 0\")\n",
    "print(np.amin(two_d_array, axis=1))\n",
    "print(\"Max 0\")\n",
    "print(np.amax(two_d_array, axis=1))\n",
    "print(\"Min 1\")\n",
    "print(np.amin(two_d_array, axis=0))\n",
    "print(\"Max 1\")\n",
    "print(np.amax(two_d_array, axis=0))"
   ]
  },
  {
   "attachments": {},
   "cell_type": "markdown",
   "metadata": {},
   "source": [
    "<p>The standard deviation of a numpy array</p>"
   ]
  },
  {
   "cell_type": "code",
   "execution_count": 56,
   "metadata": {},
   "outputs": [
    {
     "name": "stdout",
     "output_type": "stream",
     "text": [
      "Std deviation\n",
      "3.415650255319866\n"
     ]
    }
   ],
   "source": [
    "print(\"Std deviation\")\n",
    "print(np.std(my_array))"
   ]
  },
  {
   "attachments": {},
   "cell_type": "markdown",
   "metadata": {},
   "source": [
    "<p>The standard deviation in a two dimensional array</p>"
   ]
  },
  {
   "cell_type": "code",
   "execution_count": 58,
   "metadata": {},
   "outputs": [
    {
     "name": "stdout",
     "output_type": "stream",
     "text": [
      "[[25 20 39 15]\n",
      " [83 91 10 60]\n",
      " [21 74 65 20]]\n",
      "Std deviation\n",
      "[ 8.95474734 31.56738824 24.7082982 ]\n",
      "[28.33137248 30.26916289 22.46478726 20.13840996]\n"
     ]
    }
   ],
   "source": [
    "my_array =np.random.randint(1, 100, (3, 4))\n",
    "print(my_array)\n",
    "print(\"Std deviation\")\n",
    "print(np.std(my_array, axis=1))\n",
    "print(np.std(my_array, axis=0))"
   ]
  },
  {
   "attachments": {},
   "cell_type": "markdown",
   "metadata": {},
   "source": [
    "<p>Correlation</p>"
   ]
  },
  {
   "cell_type": "code",
   "execution_count": 60,
   "metadata": {},
   "outputs": [
    {
     "name": "stdout",
     "output_type": "stream",
     "text": [
      "[1.  3.  0.  0.9 1.2]\n",
      "[-1.   0.5  0.2  0.6  5. ]\n",
      "Correlation Value\n",
      "[7.04]\n"
     ]
    }
   ],
   "source": [
    "a1 = np.array([1,3,0,0.9,1.2])\n",
    "a2 = np.array([-1, 0.5, 0.2, 0.6, 5])\n",
    "print(a1)\n",
    "print(a2)\n",
    "print(\"Correlation Value\")\n",
    "print(np.correlate(a1, a2))"
   ]
  },
  {
   "attachments": {},
   "cell_type": "markdown",
   "metadata": {},
   "source": [
    "<p>Unique Items and Counts</p>"
   ]
  },
  {
   "cell_type": "code",
   "execution_count": 64,
   "metadata": {},
   "outputs": [
    {
     "name": "stdout",
     "output_type": "stream",
     "text": [
      "Unique Items\n",
      "[1 3 4 5 6 7 8 9]\n",
      "Counts\n",
      "[2 2 1 2 1 4 2 2]\n"
     ]
    }
   ],
   "source": [
    "my_array = np.array([ 5 , 8 , 7 , 5 , 9 , 3 , 7 , 7 , 1 , 1 , 8 , 4 , 6 , 9 , 7 , 3 ])\n",
    "\n",
    "unique_items, counts = np.unique(my_array, return_counts=True)\n",
    "\n",
    "print(\"Unique Items\")\n",
    "print(unique_items)\n",
    "print(\"Counts\")\n",
    "print(counts)"
   ]
  },
  {
   "attachments": {},
   "cell_type": "markdown",
   "metadata": {},
   "source": [
    "<p>Frequencies</p>"
   ]
  },
  {
   "cell_type": "code",
   "execution_count": 65,
   "metadata": {},
   "outputs": [
    {
     "name": "stdout",
     "output_type": "stream",
     "text": [
      "[[1 3 4 5 6 7 8 9]\n",
      " [2 2 1 2 1 4 2 2]]\n"
     ]
    }
   ],
   "source": [
    "frequencies = np.asarray((unique_items, counts))\n",
    "print(frequencies)"
   ]
  },
  {
   "cell_type": "code",
   "execution_count": 66,
   "metadata": {},
   "outputs": [
    {
     "name": "stdout",
     "output_type": "stream",
     "text": [
      "[[1 2]\n",
      " [3 2]\n",
      " [4 1]\n",
      " [5 2]\n",
      " [6 1]\n",
      " [7 4]\n",
      " [8 2]\n",
      " [9 2]]\n"
     ]
    }
   ],
   "source": [
    "frequencies = np.asarray((unique_items, counts)).T\n",
    "print(frequencies)"
   ]
  },
  {
   "attachments": {},
   "cell_type": "markdown",
   "metadata": {},
   "source": [
    "<p>Working with CSV files</p>"
   ]
  },
  {
   "cell_type": "code",
   "execution_count": 67,
   "metadata": {},
   "outputs": [],
   "source": [
    "my_array.tofile('./my_array.csv', sep=',')"
   ]
  },
  {
   "cell_type": "code",
   "execution_count": 69,
   "metadata": {},
   "outputs": [
    {
     "name": "stdout",
     "output_type": "stream",
     "text": [
      "[5. 8. 7. 5. 9. 3. 7. 7. 1. 1. 8. 4. 6. 9. 7. 3.]\n",
      "(16,)\n",
      "float64\n"
     ]
    }
   ],
   "source": [
    "from_csv = np.genfromtxt('./my_array.csv', delimiter=',')\n",
    "print(from_csv)\n",
    "print(from_csv.shape)\n",
    "print(from_csv.dtype)"
   ]
  },
  {
   "attachments": {},
   "cell_type": "markdown",
   "metadata": {},
   "source": [
    "<p>Making Graphs using MatplotLib</p>"
   ]
  },
  {
   "cell_type": "code",
   "execution_count": 71,
   "metadata": {},
   "outputs": [],
   "source": [
    "import matplotlib.pyplot as plt\n",
    "import math"
   ]
  },
  {
   "cell_type": "code",
   "execution_count": 72,
   "metadata": {},
   "outputs": [
    {
     "name": "stdout",
     "output_type": "stream",
     "text": [
      "[ 0.          1.05263158  2.10526316  3.15789474  4.21052632  5.26315789\n",
      "  6.31578947  7.36842105  8.42105263  9.47368421 10.52631579 11.57894737\n",
      " 12.63157895 13.68421053 14.73684211 15.78947368 16.84210526 17.89473684\n",
      " 18.94736842 20.        ]\n"
     ]
    },
    {
     "data": {
      "text/plain": [
       "[<matplotlib.lines.Line2D at 0x7f65aaebe740>]"
      ]
     },
     "execution_count": 72,
     "metadata": {},
     "output_type": "execute_result"
    },
    {
     "data": {
      "image/png": "[encoded data removed]",
      "text/plain": [
       "<Figure size 640x480 with 1 Axes>"
      ]
     },
     "metadata": {},
     "output_type": "display_data"
    }
   ],
   "source": [
    "x_vals = np.linspace(0, 20, 20)\n",
    "print(x_vals)\n",
    "y_vals = [math.sqrt(i) for i in x_vals]\n",
    "plt.plot(x_vals, y_vals)"
   ]
  }
 ],
 "metadata": {
  "kernelspec": {
   "display_name": "numpy",
   "language": "python",
   "name": "python3"
  },
  "language_info": {
   "codemirror_mode": {
    "name": "ipython",
    "version": 3
   },
   "file_extension": ".py",
   "mimetype": "text/x-python",
   "name": "python",
   "nbconvert_exporter": "python",
   "pygments_lexer": "ipython3",
   "version": "3.10.6"
  },
  "orig_nbformat": 4
 },
 "nbformat": 4,
 "nbformat_minor": 2
}
