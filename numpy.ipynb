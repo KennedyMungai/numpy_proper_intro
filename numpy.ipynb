{
 "cells": [
  {
   "attachments": {},
   "cell_type": "markdown",
   "metadata": {},
   "source": [
    "<h1>Numpy Boi!!!!</h1>"
   ]
  },
  {
   "cell_type": "code",
   "execution_count": 3,
   "metadata": {},
   "outputs": [],
   "source": [
    "import numpy as np"
   ]
  },
  {
   "cell_type": "code",
   "execution_count": 2,
   "metadata": {},
   "outputs": [
    {
     "name": "stderr",
     "output_type": "stream",
     "text": [
      "2023-05-18 09:09:00.459713: I tensorflow/tsl/cuda/cudart_stub.cc:28] Could not find cuda drivers on your machine, GPU will not be used.\n",
      "2023-05-18 09:09:00.812560: I tensorflow/tsl/cuda/cudart_stub.cc:28] Could not find cuda drivers on your machine, GPU will not be used.\n",
      "2023-05-18 09:09:00.822055: I tensorflow/core/platform/cpu_feature_guard.cc:182] This TensorFlow binary is optimized to use available CPU instructions in performance-critical operations.\n",
      "To enable the following instructions: AVX2 FMA, in other operations, rebuild TensorFlow with the appropriate compiler flags.\n",
      "2023-05-18 09:09:02.586032: W tensorflow/compiler/tf2tensorrt/utils/py_utils.cc:38] TF-TRT Warning: Could not find TensorRT\n"
     ]
    },
    {
     "name": "stdout",
     "output_type": "stream",
     "text": [
      "2.12.0\n"
     ]
    }
   ],
   "source": [
    "import tensorflow as tf\n",
    "print(tf.__version__)"
   ]
  },
  {
   "cell_type": "code",
   "execution_count": 6,
   "metadata": {},
   "outputs": [
    {
     "name": "stdout",
     "output_type": "stream",
     "text": [
      "[10 12 14 16 20 25]\n",
      "int64\n",
      "8\n"
     ]
    }
   ],
   "source": [
    "my_array = np.array([10,12,14,16,20,25])\n",
    "print(my_array)\n",
    "print(my_array.dtype)\n",
    "print(my_array.dtype.itemsize)"
   ]
  },
  {
   "cell_type": "code",
   "execution_count": 7,
   "metadata": {},
   "outputs": [
    {
     "name": "stdout",
     "output_type": "stream",
     "text": [
      "['Red' 'Green' 'Orange']\n",
      "<U6\n",
      "24\n"
     ]
    }
   ],
   "source": [
    "strings_array = np.array([\"Red\", \"Green\", 'Orange'])\n",
    "print(strings_array)\n",
    "print(strings_array.dtype)\n",
    "print(strings_array.dtype.itemsize)"
   ]
  },
  {
   "cell_type": "code",
   "execution_count": 8,
   "metadata": {},
   "outputs": [
    {
     "name": "stdout",
     "output_type": "stream",
     "text": [
      "['1990-10-04' '1989-05-06' '1990-11-04']\n",
      "<U10\n",
      "40\n"
     ]
    }
   ],
   "source": [
    "dates_array = np.array([\"1990-10-04\", \"1989-05-06\", \"1990-11-04\"])\n",
    "print(dates_array)\n",
    "print(dates_array.dtype)\n",
    "print(dates_array.dtype.itemsize)"
   ]
  },
  {
   "cell_type": "code",
   "execution_count": 10,
   "metadata": {},
   "outputs": [
    {
     "name": "stdout",
     "output_type": "stream",
     "text": [
      "['1990-10-04' '1989-05-06' '1990-11-04']\n",
      "datetime64[D]\n",
      "8\n"
     ]
    }
   ],
   "source": [
    "proper_dates_array = dates_array.astype(\"M\")\n",
    "print(proper_dates_array)\n",
    "print(proper_dates_array.dtype)\n",
    "print(proper_dates_array.dtype.itemsize)"
   ]
  },
  {
   "cell_type": "code",
   "execution_count": 11,
   "metadata": {},
   "outputs": [
    {
     "name": "stdout",
     "output_type": "stream",
     "text": [
      "['1990-10-04' '1990-10-05' '1990-10-06' '1990-10-07']\n",
      "datetime64[D]\n",
      "8\n"
     ]
    }
   ],
   "source": [
    "predefined_datetime = np.array([\"1990-10-04\", \"1990-10-05\", \"1990-10-06\", \"1990-10-07\"],  dtype=np.datetime64)\n",
    "\n",
    "print(predefined_datetime)\n",
    "print(predefined_datetime.dtype)\n",
    "print(predefined_datetime.dtype.itemsize)"
   ]
  },
  {
   "cell_type": "code",
   "execution_count": 12,
   "metadata": {},
   "outputs": [
    {
     "data": {
      "text/plain": [
       "numpy.ndarray"
      ]
     },
     "execution_count": 12,
     "metadata": {},
     "output_type": "execute_result"
    }
   ],
   "source": [
    "nums_list = [10,12,14,16,20]\n",
    "nums_array = np.array(nums_list)\n",
    "type(nums_array)"
   ]
  },
  {
   "cell_type": "code",
   "execution_count": 13,
   "metadata": {},
   "outputs": [
    {
     "data": {
      "text/plain": [
       "(3, 3)"
      ]
     },
     "execution_count": 13,
     "metadata": {},
     "output_type": "execute_result"
    }
   ],
   "source": [
    "row1 = [10,12,13]\n",
    "row2 = [45,32,16]\n",
    "row3 = [2,3,4]\n",
    "\n",
    "nums_2d = np.array([row1,row2,row3])\n",
    "nums_2d.shape"
   ]
  },
  {
   "cell_type": "code",
   "execution_count": 15,
   "metadata": {},
   "outputs": [
    {
     "name": "stdout",
     "output_type": "stream",
     "text": [
      "[ 5  6  7  8  9 10]\n"
     ]
    }
   ],
   "source": [
    "nums = np.arange(5,11)\n",
    "print(nums)"
   ]
  },
  {
   "cell_type": "code",
   "execution_count": 16,
   "metadata": {},
   "outputs": [
    {
     "name": "stdout",
     "output_type": "stream",
     "text": [
      "[5 7 9]\n"
     ]
    }
   ],
   "source": [
    "nums_2 = np.arange(5,11,2)\n",
    "print(nums_2)"
   ]
  },
  {
   "cell_type": "code",
   "execution_count": 17,
   "metadata": {},
   "outputs": [
    {
     "name": "stdout",
     "output_type": "stream",
     "text": [
      "[1. 1. 1. 1. 1. 1.]\n"
     ]
    }
   ],
   "source": [
    "num_ones = np.ones(6)\n",
    "print(num_ones)"
   ]
  },
  {
   "attachments": {},
   "cell_type": "markdown",
   "metadata": {},
   "source": [
    "<p>A bunch of random numbers with uniform distribution</p>"
   ]
  },
  {
   "cell_type": "code",
   "execution_count": 27,
   "metadata": {},
   "outputs": [
    {
     "name": "stdout",
     "output_type": "stream",
     "text": [
      "[[0.56168583 0.79888642 0.21936402 0.5530308  0.20102644]\n",
      " [0.54626212 0.25261165 0.16338875 0.79234289 0.80955967]\n",
      " [0.6129445  0.12352328 0.74075768 0.07973316 0.86727606]\n",
      " [0.78763185 0.89488529 0.71429571 0.40693475 0.59362954]]\n"
     ]
    }
   ],
   "source": [
    "uniform_random = np.random.rand(4,5)\n",
    "print(uniform_random)"
   ]
  },
  {
   "attachments": {},
   "cell_type": "markdown",
   "metadata": {},
   "source": [
    "<p>Numbers with a normal distribution</p>"
   ]
  },
  {
   "cell_type": "code",
   "execution_count": 20,
   "metadata": {},
   "outputs": [
    {
     "name": "stdout",
     "output_type": "stream",
     "text": [
      "[[ 1.25089304  0.26540633  0.58826603 -0.51280678 -0.52504578]\n",
      " [ 2.01673263 -0.44888395 -0.15462405 -0.07774187 -0.6450154 ]\n",
      " [ 0.06938973 -0.63403504  2.35959277 -0.46280415 -0.41295903]\n",
      " [-0.42680964 -1.19585864  1.66534235  0.19525684  1.22741604]]\n"
     ]
    }
   ],
   "source": [
    "normal_random = np.random.randn(4,5)\n",
    "print(normal_random)"
   ]
  },
  {
   "attachments": {},
   "cell_type": "markdown",
   "metadata": {},
   "source": [
    "<p>Generate a bunch of random integers</p>"
   ]
  },
  {
   "cell_type": "code",
   "execution_count": 21,
   "metadata": {},
   "outputs": [
    {
     "name": "stdout",
     "output_type": "stream",
     "text": [
      "[45 41 36 15 49]\n"
     ]
    }
   ],
   "source": [
    "integer_random = np.random.randint(10, 50, 5)\n",
    "print(integer_random)"
   ]
  },
  {
   "cell_type": "code",
   "execution_count": 24,
   "metadata": {},
   "outputs": [
    {
     "name": "stdout",
     "output_type": "stream",
     "text": [
      "1\n"
     ]
    }
   ],
   "source": [
    "print(integer_random.ndim)"
   ]
  },
  {
   "cell_type": "code",
   "execution_count": 30,
   "metadata": {},
   "outputs": [
    {
     "name": "stdout",
     "output_type": "stream",
     "text": [
      "2\n",
      "(4, 5)\n"
     ]
    }
   ],
   "source": [
    "print(uniform_random.ndim)\n",
    "print(uniform_random.shape)"
   ]
  },
  {
   "cell_type": "code",
   "execution_count": 33,
   "metadata": {},
   "outputs": [
    {
     "name": "stdout",
     "output_type": "stream",
     "text": [
      "['Red' 'Green' 'Blue']\n",
      "['Red' 'Green' 'Blue' 'Orange']\n"
     ]
    }
   ],
   "source": [
    "colors_array = np.array([\"Red\", \"Green\", \"Blue\"])\n",
    "print(colors_array)\n",
    "updated_colors_array = np.append(colors_array, \"Orange\")\n",
    "print(updated_colors_array)"
   ]
  },
  {
   "attachments": {},
   "cell_type": "markdown",
   "metadata": {},
   "source": [
    "<h2>Numpy Array Manipulation<h2>"
   ]
  },
  {
   "cell_type": "code",
   "execution_count": 36,
   "metadata": {},
   "outputs": [
    {
     "name": "stdout",
     "output_type": "stream",
     "text": [
      "Unsorted Array\n",
      "[15 11  2 16 11  9 12  3 12  5]\n",
      "/n\n",
      "Sorted Array\n",
      "[ 2  3  5  9 11 11 12 12 15 16]\n"
     ]
    }
   ],
   "source": [
    "print(\"Unsorted Array\")\n",
    "rand_int_array = np.random.randint(1,20,10)\n",
    "print(rand_int_array)\n",
    "print(\"/n\")\n",
    "print(\"Sorted Array\")\n",
    "sorted_int_array = np.sort(rand_int_array)\n",
    "print(sorted_int_array)"
   ]
  },
  {
   "cell_type": "code",
   "execution_count": 38,
   "metadata": {},
   "outputs": [
    {
     "name": "stdout",
     "output_type": "stream",
     "text": [
      "Random unsorted colors array\n",
      "['Red' 'Green' 'Blue' 'Yellow']\n",
      "Sorted colors array\n",
      "['Blue' 'Green' 'Red' 'Yellow']\n"
     ]
    }
   ],
   "source": [
    "print(\"Random unsorted colors array\")\n",
    "random_colors_array = np.array([\"Red\", \"Green\", \"Blue\", \"Yellow\"])\n",
    "print(random_colors_array)\n",
    "print(\"Sorted colors array\")\n",
    "sorted_colors_array = np.sort(random_colors_array)\n",
    "print(sorted_colors_array)"
   ]
  },
  {
   "attachments": {},
   "cell_type": "markdown",
   "metadata": {},
   "source": [
    "<p>Array Reshaping</p>"
   ]
  },
  {
   "cell_type": "code",
   "execution_count": 39,
   "metadata": {},
   "outputs": [
    {
     "name": "stdout",
     "output_type": "stream",
     "text": [
      "One dimensional array\n",
      "[19  7  8  3  7  1 16 10  6 13]\n",
      "Two dimensional array\n",
      "[[19  7  8  3  7]\n",
      " [ 1 16 10  6 13]]\n"
     ]
    }
   ],
   "source": [
    "print(\"One dimensional array\")\n",
    "one_d_array = np.random.randint(1, 20, 10)\n",
    "print(one_d_array)\n",
    "\n",
    "print(\"Two dimensional array\")\n",
    "two_d_array = one_d_array.reshape(2, 5)\n",
    "print(two_d_array)"
   ]
  },
  {
   "attachments": {},
   "cell_type": "markdown",
   "metadata": {},
   "source": [
    "<p>Higher Order Array Reshaping</p>"
   ]
  },
  {
   "cell_type": "code",
   "execution_count": 40,
   "metadata": {},
   "outputs": [
    {
     "name": "stdout",
     "output_type": "stream",
     "text": [
      "Two dimensional array\n",
      "[[13  4  6 19 16 19]\n",
      " [ 5  1 16 12  9  8]\n",
      " [ 4  8  2  8  2 17]\n",
      " [ 5 11 10  8  4 12]]\n",
      "Three dimensional array\n",
      "[[[13  4]\n",
      "  [ 6 19]\n",
      "  [16 19]\n",
      "  [ 5  1]]\n",
      "\n",
      " [[16 12]\n",
      "  [ 9  8]\n",
      "  [ 4  8]\n",
      "  [ 2  8]]\n",
      "\n",
      " [[ 2 17]\n",
      "  [ 5 11]\n",
      "  [10  8]\n",
      "  [ 4 12]]]\n"
     ]
    }
   ],
   "source": [
    "print(\"Two dimensional array\")\n",
    "two_d_array = np.random.randint(1, 20, size=(4, 6))\n",
    "print(two_d_array)\n",
    "\n",
    "print(\"Three dimensional array\")\n",
    "three_d_array = np.reshape(two_d_array, (3,4,2))\n",
    "print(three_d_array)"
   ]
  },
  {
   "cell_type": "code",
   "execution_count": 41,
   "metadata": {},
   "outputs": [
    {
     "name": "stdout",
     "output_type": "stream",
     "text": [
      "Two dimensional array\n",
      "[[6 7 9 8 1 9]\n",
      " [5 7 5 5 1 4]\n",
      " [8 0 0 4 7 8]\n",
      " [4 1 3 0 1 9]]\n",
      "One dimensional array\n",
      "[6 7 9 8 1 9 5 7 5 5 1 4 8 0 0 4 7 8 4 1 3 0 1 9]\n"
     ]
    }
   ],
   "source": [
    "print(\"Two dimensional array\")\n",
    "two_d_array = np.random.randint(0, 10, (4, 6))\n",
    "print(two_d_array)\n",
    "\n",
    "print(\"One dimensional array\")\n",
    "one_d_array = two_d_array.reshape(-1)\n",
    "print(one_d_array)"
   ]
  },
  {
   "cell_type": "code",
   "execution_count": 44,
   "metadata": {},
   "outputs": [
    {
     "name": "stdout",
     "output_type": "stream",
     "text": [
      "[ 1  2  3  4  5  6  7  8  9 10]\n",
      "2\n",
      "[3 4 5]\n"
     ]
    }
   ],
   "source": [
    "s = np.arange(1, 11)\n",
    "print(s)\n",
    "# Array indexed\n",
    "print(s[1])\n",
    "# Array slice\n",
    "print(s[2:5])"
   ]
  },
  {
   "attachments": {},
   "cell_type": "markdown",
   "metadata": {},
   "source": [
    "<p>Simple Broadcasting Example</p>"
   ]
  },
  {
   "cell_type": "code",
   "execution_count": 45,
   "metadata": {},
   "outputs": [
    {
     "name": "stdout",
     "output_type": "stream",
     "text": [
      "[[ 2 18 10  6]\n",
      " [12  8  1 12]\n",
      " [ 6  4 18  7]]\n",
      "[[ 5]\n",
      " [10]\n",
      " [20]]\n",
      "After Broadcasting\n",
      "[[ 7 23 15 11]\n",
      " [22 18 11 22]\n",
      " [26 24 38 27]]\n"
     ]
    }
   ],
   "source": [
    "array1 = np.random.randint(1, 20, (3, 4))\n",
    "print(array1)\n",
    "\n",
    "array2 = np.array([[5], [10], [20]])\n",
    "print(array2)\n",
    "\n",
    "print(\"After Broadcasting\")\n",
    "\n",
    "result = array1 + array2\n",
    "print(result)"
   ]
  },
  {
   "attachments": {},
   "cell_type": "markdown",
   "metadata": {},
   "source": [
    "<p>Copying Numpy Arrays</p>"
   ]
  },
  {
   "cell_type": "code",
   "execution_count": 46,
   "metadata": {},
   "outputs": [
    {
     "name": "stdout",
     "output_type": "stream",
     "text": [
      "[10 12 14 16 18 20]\n",
      "[10 20 14 16 18 20]\n"
     ]
    }
   ],
   "source": [
    "array1 = np.array([10, 12, 14, 16, 18, 20])\n",
    "array2 = array1.copy()\n",
    "array2[1] = 20\n",
    "\n",
    "print(array1)\n",
    "print(array2)"
   ]
  },
  {
   "attachments": {},
   "cell_type": "markdown",
   "metadata": {},
   "source": [
    "<p>I/O Operations</p>"
   ]
  },
  {
   "cell_type": "code",
   "execution_count": 47,
   "metadata": {},
   "outputs": [],
   "source": [
    "np.save(\"./my_array\", array1)"
   ]
  },
  {
   "cell_type": "code",
   "execution_count": 48,
   "metadata": {},
   "outputs": [
    {
     "name": "stdout",
     "output_type": "stream",
     "text": [
      "[10 12 14 16 18 20]\n"
     ]
    }
   ],
   "source": [
    "saved_array = np.load(\"./my_array.npy\")\n",
    "print(saved_array)"
   ]
  },
  {
   "attachments": {},
   "cell_type": "markdown",
   "metadata": {},
   "source": [
    "<h2>Statistical Operations</h2>"
   ]
  },
  {
   "attachments": {},
   "cell_type": "markdown",
   "metadata": {},
   "source": [
    "<p>Mean</p>"
   ]
  },
  {
   "cell_type": "code",
   "execution_count": 49,
   "metadata": {},
   "outputs": [
    {
     "name": "stdout",
     "output_type": "stream",
     "text": [
      "[ 2  4  6  8 10 12]\n",
      "Mean: \n",
      "7.0\n"
     ]
    }
   ],
   "source": [
    "my_array = np.array([2,4,6,8,10,12])\n",
    "print(my_array)\n",
    "print(\"Mean: \")\n",
    "print(np.mean(my_array))"
   ]
  },
  {
   "attachments": {},
   "cell_type": "markdown",
   "metadata": {},
   "source": [
    "<p>Two dimensional mean</p>"
   ]
  },
  {
   "cell_type": "code",
   "execution_count": 50,
   "metadata": {},
   "outputs": [
    {
     "name": "stdout",
     "output_type": "stream",
     "text": [
      "[[ 3 15  9]\n",
      " [ 7 10  3]]\n",
      "Mean: \n",
      "[9.         6.66666667]\n",
      "[ 5.  12.5  6. ]\n"
     ]
    }
   ],
   "source": [
    "two_d_array = np.random.randint(1, 20, (2,3))\n",
    "print(two_d_array)\n",
    "print(\"Mean: \")\n",
    "print(np.mean(two_d_array, axis=1))\n",
    "print(np.mean(two_d_array, axis=0))"
   ]
  },
  {
   "attachments": {},
   "cell_type": "markdown",
   "metadata": {},
   "source": [
    "<p>Median</p>"
   ]
  },
  {
   "cell_type": "code",
   "execution_count": 51,
   "metadata": {},
   "outputs": [
    {
     "name": "stdout",
     "output_type": "stream",
     "text": [
      "7.0\n"
     ]
    }
   ],
   "source": [
    "print(np.median(my_array))"
   ]
  },
  {
   "attachments": {},
   "cell_type": "markdown",
   "metadata": {},
   "source": [
    "<p>Two dimension median</p>"
   ]
  },
  {
   "cell_type": "code",
   "execution_count": 52,
   "metadata": {},
   "outputs": [
    {
     "name": "stdout",
     "output_type": "stream",
     "text": [
      "[9. 7.]\n",
      "[ 5.  12.5  6. ]\n"
     ]
    }
   ],
   "source": [
    "print(np.median(two_d_array, axis=1))\n",
    "print(np.median(two_d_array, axis=0))"
   ]
  },
  {
   "attachments": {},
   "cell_type": "markdown",
   "metadata": {},
   "source": [
    "<p>Min and Max values in an array</p>"
   ]
  },
  {
   "cell_type": "code",
   "execution_count": 53,
   "metadata": {},
   "outputs": [
    {
     "name": "stdout",
     "output_type": "stream",
     "text": [
      "Array Min\n",
      "2\n",
      "Array Max\n",
      "12\n"
     ]
    }
   ],
   "source": [
    "print(\"Array Min\")\n",
    "print(np.amin(my_array))\n",
    "print(\"Array Max\")\n",
    "print(np.amax(my_array))"
   ]
  },
  {
   "attachments": {},
   "cell_type": "markdown",
   "metadata": {},
   "source": [
    "<p>Min and Max values for two dimensions</p>"
   ]
  },
  {
   "cell_type": "code",
   "execution_count": 55,
   "metadata": {},
   "outputs": [
    {
     "name": "stdout",
     "output_type": "stream",
     "text": [
      "Min 0\n",
      "[3 3]\n",
      "Max 0\n",
      "[15 10]\n",
      "Min 1\n",
      "[ 3 10  3]\n",
      "Max 1\n",
      "[ 7 15  9]\n"
     ]
    }
   ],
   "source": [
    "print(\"Min 0\")\n",
    "print(np.amin(two_d_array, axis=1))\n",
    "print(\"Max 0\")\n",
    "print(np.amax(two_d_array, axis=1))\n",
    "print(\"Min 1\")\n",
    "print(np.amin(two_d_array, axis=0))\n",
    "print(\"Max 1\")\n",
    "print(np.amax(two_d_array, axis=0))"
   ]
  },
  {
   "attachments": {},
   "cell_type": "markdown",
   "metadata": {},
   "source": [
    "<p>The standard deviation of a numpy array</p>"
   ]
  },
  {
   "cell_type": "code",
   "execution_count": 56,
   "metadata": {},
   "outputs": [
    {
     "name": "stdout",
     "output_type": "stream",
     "text": [
      "Std deviation\n",
      "3.415650255319866\n"
     ]
    }
   ],
   "source": [
    "print(\"Std deviation\")\n",
    "print(np.std(my_array))"
   ]
  },
  {
   "attachments": {},
   "cell_type": "markdown",
   "metadata": {},
   "source": [
    "<p>The standard deviation in a two dimensional array</p>"
   ]
  },
  {
   "cell_type": "code",
   "execution_count": 58,
   "metadata": {},
   "outputs": [
    {
     "name": "stdout",
     "output_type": "stream",
     "text": [
      "[[25 20 39 15]\n",
      " [83 91 10 60]\n",
      " [21 74 65 20]]\n",
      "Std deviation\n",
      "[ 8.95474734 31.56738824 24.7082982 ]\n",
      "[28.33137248 30.26916289 22.46478726 20.13840996]\n"
     ]
    }
   ],
   "source": [
    "my_array =np.random.randint(1, 100, (3, 4))\n",
    "print(my_array)\n",
    "print(\"Std deviation\")\n",
    "print(np.std(my_array, axis=1))\n",
    "print(np.std(my_array, axis=0))"
   ]
  },
  {
   "attachments": {},
   "cell_type": "markdown",
   "metadata": {},
   "source": [
    "<p>Correlation</p>"
   ]
  },
  {
   "cell_type": "code",
   "execution_count": 60,
   "metadata": {},
   "outputs": [
    {
     "name": "stdout",
     "output_type": "stream",
     "text": [
      "[1.  3.  0.  0.9 1.2]\n",
      "[-1.   0.5  0.2  0.6  5. ]\n",
      "Correlation Value\n",
      "[7.04]\n"
     ]
    }
   ],
   "source": [
    "a1 = np.array([1,3,0,0.9,1.2])\n",
    "a2 = np.array([-1, 0.5, 0.2, 0.6, 5])\n",
    "print(a1)\n",
    "print(a2)\n",
    "print(\"Correlation Value\")\n",
    "print(np.correlate(a1, a2))"
   ]
  },
  {
   "attachments": {},
   "cell_type": "markdown",
   "metadata": {},
   "source": [
    "<p>Unique Items and Counts</p>"
   ]
  },
  {
   "cell_type": "code",
   "execution_count": 64,
   "metadata": {},
   "outputs": [
    {
     "name": "stdout",
     "output_type": "stream",
     "text": [
      "Unique Items\n",
      "[1 3 4 5 6 7 8 9]\n",
      "Counts\n",
      "[2 2 1 2 1 4 2 2]\n"
     ]
    }
   ],
   "source": [
    "my_array = np.array([ 5 , 8 , 7 , 5 , 9 , 3 , 7 , 7 , 1 , 1 , 8 , 4 , 6 , 9 , 7 , 3 ])\n",
    "\n",
    "unique_items, counts = np.unique(my_array, return_counts=True)\n",
    "\n",
    "print(\"Unique Items\")\n",
    "print(unique_items)\n",
    "print(\"Counts\")\n",
    "print(counts)"
   ]
  },
  {
   "attachments": {},
   "cell_type": "markdown",
   "metadata": {},
   "source": [
    "<p>Frequencies</p>"
   ]
  },
  {
   "cell_type": "code",
   "execution_count": 65,
   "metadata": {},
   "outputs": [
    {
     "name": "stdout",
     "output_type": "stream",
     "text": [
      "[[1 3 4 5 6 7 8 9]\n",
      " [2 2 1 2 1 4 2 2]]\n"
     ]
    }
   ],
   "source": [
    "frequencies = np.asarray((unique_items, counts))\n",
    "print(frequencies)"
   ]
  },
  {
   "cell_type": "code",
   "execution_count": 66,
   "metadata": {},
   "outputs": [
    {
     "name": "stdout",
     "output_type": "stream",
     "text": [
      "[[1 2]\n",
      " [3 2]\n",
      " [4 1]\n",
      " [5 2]\n",
      " [6 1]\n",
      " [7 4]\n",
      " [8 2]\n",
      " [9 2]]\n"
     ]
    }
   ],
   "source": [
    "frequencies = np.asarray((unique_items, counts)).T\n",
    "print(frequencies)"
   ]
  },
  {
   "attachments": {},
   "cell_type": "markdown",
   "metadata": {},
   "source": [
    "<p>Working with CSV files</p>"
   ]
  },
  {
   "cell_type": "code",
   "execution_count": 67,
   "metadata": {},
   "outputs": [],
   "source": [
    "my_array.tofile('./my_array.csv', sep=',')"
   ]
  },
  {
   "cell_type": "code",
   "execution_count": 69,
   "metadata": {},
   "outputs": [
    {
     "name": "stdout",
     "output_type": "stream",
     "text": [
      "[5. 8. 7. 5. 9. 3. 7. 7. 1. 1. 8. 4. 6. 9. 7. 3.]\n",
      "(16,)\n",
      "float64\n"
     ]
    }
   ],
   "source": [
    "from_csv = np.genfromtxt('./my_array.csv', delimiter=',')\n",
    "print(from_csv)\n",
    "print(from_csv.shape)\n",
    "print(from_csv.dtype)"
   ]
  },
  {
   "attachments": {},
   "cell_type": "markdown",
   "metadata": {},
   "source": [
    "<p>Making Graphs using MatplotLib</p>"
   ]
  },
  {
   "cell_type": "code",
   "execution_count": 71,
   "metadata": {},
   "outputs": [],
   "source": [
    "import matplotlib.pyplot as plt\n",
    "import math"
   ]
  },
  {
   "cell_type": "code",
   "execution_count": 72,
   "metadata": {},
   "outputs": [
    {
     "name": "stdout",
     "output_type": "stream",
     "text": [
      "[ 0.          1.05263158  2.10526316  3.15789474  4.21052632  5.26315789\n",
      "  6.31578947  7.36842105  8.42105263  9.47368421 10.52631579 11.57894737\n",
      " 12.63157895 13.68421053 14.73684211 15.78947368 16.84210526 17.89473684\n",
      " 18.94736842 20.        ]\n"
     ]
    },
    {
     "data": {
      "text/plain": [
       "[<matplotlib.lines.Line2D at 0x7f65aaebe740>]"
      ]
     },
     "execution_count": 72,
     "metadata": {},
     "output_type": "execute_result"
    },
    {
     "data": {
      "image/png": "[encoded data removed]",
      "text/plain": [
       "<Figure size 640x480 with 1 Axes>"
      ]
     },
     "metadata": {},
     "output_type": "display_data"
    }
   ],
   "source": [
    "x_vals = np.linspace(0, 20, 20)\n",
    "print(x_vals)\n",
    "y_vals = [math.sqrt(i) for i in x_vals]\n",
    "plt.plot(x_vals, y_vals)"
   ]
  },
  {
   "attachments": {},
   "cell_type": "markdown",
   "metadata": {},
   "source": [
    "<p>Plotting curves using multiple numpy arrays</p>"
   ]
  },
  {
   "cell_type": "code",
   "execution_count": 74,
   "metadata": {},
   "outputs": [
    {
     "data": {
      "text/plain": [
       "<matplotlib.legend.Legend at 0x7f65a8ca4130>"
      ]
     },
     "execution_count": 74,
     "metadata": {},
     "output_type": "execute_result"
    },
    {
     "data": {
      "image/png": "[encoded data removed]",
      "text/plain": [
       "<Figure size 640x480 with 1 Axes>"
      ]
     },
     "metadata": {},
     "output_type": "display_data"
    }
   ],
   "source": [
    "x_vals = np.linspace(0, 20, 20)\n",
    "y_vals = [math.sqrt(i) for i in x_vals]\n",
    "y2_vals = x_vals ** 3\n",
    "plt.xlabel(\"X labels\")\n",
    "plt.ylabel(\"Y labels\")\n",
    "plt.title(\"Square Roots\")\n",
    "plt.plot(x_vals, y_vals, 'r', label=\"Square Roots\")\n",
    "plt.plot(x_vals, y2_vals, 'b', label=\"Cube Roots\")\n",
    "plt.legend(loc=\"upper center\")"
   ]
  },
  {
   "attachments": {},
   "cell_type": "markdown",
   "metadata": {},
   "source": [
    "<p>Plotting Heat Maps</p>"
   ]
  },
  {
   "cell_type": "code",
   "execution_count": 75,
   "metadata": {},
   "outputs": [
    {
     "name": "stdout",
     "output_type": "stream",
     "text": [
      "[[15  8 10  1]\n",
      " [ 8 14 11  2]\n",
      " [18  6 19  9]\n",
      " [ 1 10 15  9]]\n"
     ]
    },
    {
     "data": {
      "image/png": "[encoded data removed]",
      "text/plain": [
       "<Figure size 640x480 with 1 Axes>"
      ]
     },
     "metadata": {},
     "output_type": "display_data"
    }
   ],
   "source": [
    "my_array = np.random.randint(1, 20, (4, 4))\n",
    "print(my_array)\n",
    "\n",
    "plt.imshow(my_array)\n",
    "plt.show()"
   ]
  },
  {
   "attachments": {},
   "cell_type": "markdown",
   "metadata": {},
   "source": [
    "<h2>Arithmetic and Linear Algebra Operations</h2>"
   ]
  },
  {
   "cell_type": "markdown",
   "metadata": {},
   "source": [
    "<p>Square Root Operations</p>"
   ]
  },
  {
   "cell_type": "code",
   "execution_count": 76,
   "metadata": {},
   "outputs": [
    {
     "name": "stdout",
     "output_type": "stream",
     "text": [
      "[3.16227766 4.47213595 5.47722558 6.32455532 7.07106781]\n"
     ]
    }
   ],
   "source": [
    "nums = [10,20,30,40,50]\n",
    "np_sqr = np.sqrt(nums)\n",
    "print(np_sqr)"
   ]
  },
  {
   "attachments": {},
   "cell_type": "markdown",
   "metadata": {},
   "source": [
    "<p>Log Operations</p>"
   ]
  },
  {
   "cell_type": "code",
   "execution_count": 77,
   "metadata": {},
   "outputs": [
    {
     "name": "stdout",
     "output_type": "stream",
     "text": [
      "[2.30258509 2.99573227 3.40119738 3.68887945 3.91202301]\n"
     ]
    }
   ],
   "source": [
    "np_log = np.log(nums)\n",
    "print(np_log)"
   ]
  },
  {
   "attachments": {},
   "cell_type": "markdown",
   "metadata": {},
   "source": [
    "<p>Exponent Operations</p>"
   ]
  },
  {
   "cell_type": "code",
   "execution_count": 78,
   "metadata": {},
   "outputs": [
    {
     "name": "stdout",
     "output_type": "stream",
     "text": [
      "[2.20264658e+04 4.85165195e+08 1.06864746e+13 2.35385267e+17\n",
      " 5.18470553e+21]\n"
     ]
    }
   ],
   "source": [
    "np_exp = np.exp(nums)\n",
    "print(np_exp)"
   ]
  },
  {
   "attachments": {},
   "cell_type": "markdown",
   "metadata": {},
   "source": [
    "<p>Trigonometry</p>"
   ]
  },
  {
   "cell_type": "code",
   "execution_count": 80,
   "metadata": {},
   "outputs": [
    {
     "name": "stdout",
     "output_type": "stream",
     "text": [
      "[-0.54402111  0.91294525 -0.98803162  0.74511316 -0.26237485]\n",
      "[-0.83907153  0.40808206  0.15425145 -0.66693806  0.96496603]\n",
      "[ 0.64836083  2.23716094 -6.4053312  -1.11721493 -0.27190061]\n"
     ]
    }
   ],
   "source": [
    "np_sine = np.sin(nums)\n",
    "print(np_sine)\n",
    "np_cosine = np.cos(nums)\n",
    "print(np_cosine)\n",
    "np_tangent = np.tan(nums)\n",
    "print(np_tangent)"
   ]
  },
  {
   "attachments": {},
   "cell_type": "markdown",
   "metadata": {},
   "source": [
    "<p>Dot Matrix Product</p>"
   ]
  },
  {
   "cell_type": "code",
   "execution_count": 82,
   "metadata": {},
   "outputs": [
    {
     "name": "stdout",
     "output_type": "stream",
     "text": [
      "[[-0.71673301 -0.71801948 -1.15604703  0.05083113]\n",
      " [ 1.01952074  0.11507263 -0.11851958 -0.20751287]\n",
      " [-1.60034065 -1.20367121  0.236303    0.51282403]\n",
      " [ 0.95089823  0.95147236  0.17404284 -0.27037415]]\n"
     ]
    }
   ],
   "source": [
    "A = np.random.randn(4,5)\n",
    "B = np.random.randn(5,4)\n",
    "\n",
    "Z = np.dot(A, B)\n",
    "print(Z)"
   ]
  },
  {
   "attachments": {},
   "cell_type": "markdown",
   "metadata": {},
   "source": [
    "<p>Normal Multiplication of two matrices</p>"
   ]
  },
  {
   "cell_type": "code",
   "execution_count": 83,
   "metadata": {},
   "outputs": [
    {
     "name": "stdout",
     "output_type": "stream",
     "text": [
      "[[ 100  144  169]\n",
      " [2025 1024  256]\n",
      " [6084 9604  144]]\n"
     ]
    }
   ],
   "source": [
    "row1 = [10, 12, 13]\n",
    "row2 = [45, 32, 16]\n",
    "row3 = [78, 98, 12]\n",
    "\n",
    "nums_2d = np.array([row1, row2, row3])\n",
    "multiply = np.multiply(nums_2d, nums_2d)\n",
    "print(multiply)"
   ]
  },
  {
   "attachments": {},
   "cell_type": "markdown",
   "metadata": {},
   "source": [
    "<p>Finding Matrix Inverse</p>"
   ]
  },
  {
   "cell_type": "code",
   "execution_count": 85,
   "metadata": {},
   "outputs": [
    {
     "name": "stdout",
     "output_type": "stream",
     "text": [
      "[[-1.05772848e-03  7.33326460e-04 -6.23295912e-05]\n",
      " [ 5.79353257e-04 -4.63973583e-04  1.44906506e-04]\n",
      " [ 6.04938449e-03 -3.85825442e-05 -8.65892171e-05]]\n"
     ]
    }
   ],
   "source": [
    "inverse = np.linalg.inv(multiply)\n",
    "print(inverse)"
   ]
  },
  {
   "attachments": {},
   "cell_type": "markdown",
   "metadata": {},
   "source": [
    "<p>Matrix Determinant</p>"
   ]
  },
  {
   "cell_type": "code",
   "execution_count": 88,
   "metadata": {},
   "outputs": [
    {
     "name": "stdout",
     "output_type": "stream",
     "text": [
      "21538.000000000004\n"
     ]
    }
   ],
   "source": [
    "det = np.linalg.det(nums_2d)\n",
    "print(det)"
   ]
  },
  {
   "attachments": {},
   "cell_type": "markdown",
   "metadata": {},
   "source": [
    "<p>Trace of a matrix (Sum of items on the first diagonal)</p>"
   ]
  },
  {
   "cell_type": "code",
   "execution_count": 89,
   "metadata": {},
   "outputs": [
    {
     "name": "stdout",
     "output_type": "stream",
     "text": [
      "54\n"
     ]
    }
   ],
   "source": [
    "trace = np.trace(nums_2d)\n",
    "print(trace)"
   ]
  },
  {
   "attachments": {},
   "cell_type": "markdown",
   "metadata": {},
   "source": [
    "<p>Solving a system of linear algebra equations</p>\n",
    "<p>These equations\n",
    "<p>6x + 3y = 42</p>\n",
    "<p>2x + 4y = 32</p>\n",
    "</p>"
   ]
  },
  {
   "cell_type": "code",
   "execution_count": 90,
   "metadata": {},
   "outputs": [
    {
     "name": "stdout",
     "output_type": "stream",
     "text": [
      "[4. 6.]\n"
     ]
    }
   ],
   "source": [
    "A = np.array([[6,3], [2,4]])\n",
    "B = np.array([42, 32])\n",
    "\n",
    "A_inv = np.linalg.inv(A)\n",
    "X=np.dot(A_inv,B)\n",
    "print(X)"
   ]
  },
  {
   "attachments": {},
   "cell_type": "markdown",
   "metadata": {},
   "source": [
    "<h2>Implementing a deep neural network with NumPy</h2>"
   ]
  },
  {
   "attachments": {},
   "cell_type": "markdown",
   "metadata": {},
   "source": [
    "<p>Neural Network with a single output</p>"
   ]
  },
  {
   "cell_type": "code",
   "execution_count": 91,
   "metadata": {},
   "outputs": [],
   "source": [
    "from sklearn import datasets\n",
    "import matplotlib.pyplot as plt\n",
    "import numpy as np"
   ]
  },
  {
   "cell_type": "code",
   "execution_count": 93,
   "metadata": {},
   "outputs": [
    {
     "data": {
      "text/plain": [
       "<matplotlib.collections.PathCollection at 0x7f659387c3a0>"
      ]
     },
     "execution_count": 93,
     "metadata": {},
     "output_type": "execute_result"
    },
    {
     "data": {
      "image/png": "[encoded data removed]",
      "text/plain": [
       "<Figure size 1000x700 with 1 Axes>"
      ]
     },
     "metadata": {},
     "output_type": "display_data"
    }
   ],
   "source": [
    "np.random.seed(0)\n",
    "X, y = datasets.make_moons(100, noise=0.10)\n",
    "x1 = X[:, 0]\n",
    "x2 = X[:, 1]\n",
    "\n",
    "plt.figure(figsize=(10, 7))\n",
    "plt.scatter(x1, x2, c=y, cmap=plt.cm.coolwarm)"
   ]
  },
  {
   "cell_type": "code",
   "execution_count": 94,
   "metadata": {},
   "outputs": [],
   "source": [
    "y = y.reshape(y.shape[0], 1)"
   ]
  },
  {
   "cell_type": "code",
   "execution_count": 96,
   "metadata": {},
   "outputs": [
    {
     "name": "stdout",
     "output_type": "stream",
     "text": [
      "(100, 2)\n",
      "(100, 1)\n"
     ]
    }
   ],
   "source": [
    "print(X.shape)\n",
    "print(y.shape)"
   ]
  },
  {
   "attachments": {},
   "cell_type": "markdown",
   "metadata": {},
   "source": [
    "<p>Implementation of a Neural Network from scratch</p>"
   ]
  },
  {
   "cell_type": "code",
   "execution_count": 103,
   "metadata": {},
   "outputs": [],
   "source": [
    "def define_parameters(weights):\n",
    "    weight_list = []\n",
    "    bias_list = []\n",
    "\n",
    "    for i in range(len(weights) - 1):\n",
    "        w = np.random.randn(weights[i], weights[i + 1])\n",
    "        b = np.random.randn()\n",
    "\n",
    "    weight_list.append(w)\n",
    "    bias_list.append(b)\n",
    "\n",
    "    return weight_list, bias_list"
   ]
  },
  {
   "cell_type": "code",
   "execution_count": 98,
   "metadata": {},
   "outputs": [],
   "source": [
    "def sigmoid(x):\n",
    "    return 1/(1 + np.exp(-x))"
   ]
  },
  {
   "cell_type": "code",
   "execution_count": 99,
   "metadata": {},
   "outputs": [],
   "source": [
    "def sigmoid_der(x):\n",
    "    return sigmoid(x) * (1 - sigmoid(x))"
   ]
  },
  {
   "cell_type": "code",
   "execution_count": 100,
   "metadata": {},
   "outputs": [],
   "source": [
    "def predictions(w, b, X):\n",
    "    zh = np.dot(X, w[0] + b[0])\n",
    "    ah = sigmoid(zh)\n",
    "    zo = np.dot(ah, w[1] + b[1])\n",
    "    ao = sigmoid(zo)\n",
    "\n",
    "    return ao"
   ]
  },
  {
   "cell_type": "code",
   "execution_count": 101,
   "metadata": {},
   "outputs": [],
   "source": [
    "def find_cost(ao, y):\n",
    "    m = y.shape[0]\n",
    "    total_cost = (1/m) * np.sum(np.square(ao - y))\n",
    "\n",
    "    return total_cost"
   ]
  },
  {
   "cell_type": "code",
   "execution_count": 104,
   "metadata": {},
   "outputs": [],
   "source": [
    "def find_derivatives(w, b, X):\n",
    "    zh = np.dot(X, w[0]) + b[0]\n",
    "    ah = sigmoid(zh)\n",
    "    zo = np.dot(ah, w[1]) + b[1]\n",
    "    ao = sigmoid(zo)\n",
    "\n",
    "    # Backpropagation phase 1\n",
    "    m = y.shape[0]\n",
    "    dcost_dao = (1/m)* (ao-y)\n",
    "    dao_dzo = sigmoid_der(zo)\n",
    "    dzo_dwo = ah.T\n",
    "    \n",
    "    dwo = np.dot(dzo_dwo, dcost_dao * dao_dzo)\n",
    "    dbo = np.sum(dcost_dao * dao_dzo)\n",
    "\n",
    "    # Backpropagation phase 2\n",
    "    \n",
    "    # dcost_wh = dcost_dah * dah_dzh * dzh_dwh\n",
    "    # dcost_dah = dcost_dzo * dzo_dah\n",
    "    \n",
    "    dcost_dzo = dcost_dao * dao_dzo\n",
    "    dzo_dah = w[1].T\n",
    "    \n",
    "    dcost_dah = np.dot(dcost_dzo, dzo_dah)\n",
    "\n",
    "    dah_dzh = sigmoid_der(zh)\n",
    "    dzh_dwh = X.T\n",
    "    dwh = np.dot(dzh_dwh, dah_dzh * dcost_dah)\n",
    "    dbh = np.sum(dah_dzh * dcost_dah)\n",
    "\n",
    "    return dwh, dbh, dwo, dbo"
   ]
  },
  {
   "cell_type": "code",
   "execution_count": 105,
   "metadata": {},
   "outputs": [],
   "source": [
    "def update_weights(w, b, dwh, dbh, dwo, dbo ,lr):\n",
    "    w[0] = w[0] - lr *dwh\n",
    "    w[1] = w[1] - lr *dwo\n",
    "    \n",
    "    b[0] = b[0] - lr * dbh\n",
    "    b[1] = b[1] -lr *dbo"
   ]
  },
  {
   "cell_type": "code",
   "execution_count": 106,
   "metadata": {},
   "outputs": [],
   "source": [
    "def my_neural_network(X, y, lr, epochs):\n",
    "    error_list = []\n",
    "    input_len = X.shape[1]\n",
    "    output_len = y.shape[1]\n",
    "    w, b = define_parameters([input_len, 4, output_len])\n",
    "    \n",
    "    for i in range(epochs):\n",
    "        ao = predictions(w, b, X)\n",
    "        cost = find_cost(ao, y)\n",
    "        error_list.append(cost)\n",
    "        dwh, dbh, dwo, dbo = find_derivatives(w, b, X)\n",
    "        w, b = update_weights(w, b, dwh, dbh, dwo, dbo, lr)\n",
    "\n",
    "    if i % 50 == 0:\n",
    "        print(cost)\n",
    "\n",
    "    return w, b, error_list"
   ]
  },
  {
   "cell_type": "code",
   "execution_count": 107,
   "metadata": {},
   "outputs": [
    {
     "ename": "ValueError",
     "evalue": "shapes (100,2) and (4,1) not aligned: 2 (dim 1) != 4 (dim 0)",
     "output_type": "error",
     "traceback": [
      "\u001b[0;31m---------------------------------------------------------------------------\u001b[0m",
      "\u001b[0;31mValueError\u001b[0m                                Traceback (most recent call last)",
      "Cell \u001b[0;32mIn[107], line 3\u001b[0m\n\u001b[1;32m      1\u001b[0m lr \u001b[39m=\u001b[39m \u001b[39m0.5\u001b[39m\n\u001b[1;32m      2\u001b[0m epochs \u001b[39m=\u001b[39m \u001b[39m2000\u001b[39m\n\u001b[0;32m----> 3\u001b[0m w, b, error_list \u001b[39m=\u001b[39m my_neural_network(X, y, lr, epochs)\n",
      "Cell \u001b[0;32mIn[106], line 8\u001b[0m, in \u001b[0;36mmy_neural_network\u001b[0;34m(X, y, lr, epochs)\u001b[0m\n\u001b[1;32m      5\u001b[0m w, b \u001b[39m=\u001b[39m define_parameters([input_len, \u001b[39m4\u001b[39m, output_len])\n\u001b[1;32m      7\u001b[0m \u001b[39mfor\u001b[39;00m i \u001b[39min\u001b[39;00m \u001b[39mrange\u001b[39m(epochs):\n\u001b[0;32m----> 8\u001b[0m     ao \u001b[39m=\u001b[39m predictions(w, b, X)\n\u001b[1;32m      9\u001b[0m     cost \u001b[39m=\u001b[39m find_cost(ao, y)\n\u001b[1;32m     10\u001b[0m     error_list\u001b[39m.\u001b[39mappend(cost)\n",
      "Cell \u001b[0;32mIn[100], line 2\u001b[0m, in \u001b[0;36mpredictions\u001b[0;34m(w, b, X)\u001b[0m\n\u001b[1;32m      1\u001b[0m \u001b[39mdef\u001b[39;00m \u001b[39mpredictions\u001b[39m(w, b, X):\n\u001b[0;32m----> 2\u001b[0m     zh \u001b[39m=\u001b[39m np\u001b[39m.\u001b[39;49mdot(X, w[\u001b[39m0\u001b[39;49m] \u001b[39m+\u001b[39;49m b[\u001b[39m0\u001b[39;49m])\n\u001b[1;32m      3\u001b[0m     ah \u001b[39m=\u001b[39m sigmoid(zh)\n\u001b[1;32m      4\u001b[0m     zo \u001b[39m=\u001b[39m np\u001b[39m.\u001b[39mdot(ah, w[\u001b[39m1\u001b[39m] \u001b[39m+\u001b[39m b[\u001b[39m1\u001b[39m])\n",
      "File \u001b[0;32m<__array_function__ internals>:200\u001b[0m, in \u001b[0;36mdot\u001b[0;34m(*args, **kwargs)\u001b[0m\n",
      "\u001b[0;31mValueError\u001b[0m: shapes (100,2) and (4,1) not aligned: 2 (dim 1) != 4 (dim 0)"
     ]
    }
   ],
   "source": [
    "lr = 0.5\n",
    "epochs = 2000\n",
    "w, b, error_list = my_neural_network(X, y, lr, epochs)"
   ]
  },
  {
   "cell_type": "code",
   "execution_count": 108,
   "metadata": {},
   "outputs": [
    {
     "ename": "NameError",
     "evalue": "name 'error_list' is not defined",
     "output_type": "error",
     "traceback": [
      "\u001b[0;31m---------------------------------------------------------------------------\u001b[0m",
      "\u001b[0;31mNameError\u001b[0m                                 Traceback (most recent call last)",
      "Cell \u001b[0;32mIn[108], line 1\u001b[0m\n\u001b[0;32m----> 1\u001b[0m plt\u001b[39m.\u001b[39mplot(error_list)\n",
      "\u001b[0;31mNameError\u001b[0m: name 'error_list' is not defined"
     ]
    }
   ],
   "source": [
    "plt.plot(error_list)"
   ]
  },
  {
   "attachments": {},
   "cell_type": "markdown",
   "metadata": {},
   "source": [
    "<p>Neural Network with Multiple Outputs</p>"
   ]
  },
  {
   "cell_type": "code",
   "execution_count": 109,
   "metadata": {},
   "outputs": [],
   "source": [
    "np.random.seed(42)\n",
    "\n",
    "cat1 = np.random.randn(800, 2) + np.array([0, -3])\n",
    "cat2 = np.random.randn(800, 2) + np.array([3,3])\n",
    "cat3 = np.random.randn(800, 2) + np.array([-3, 3])\n",
    "\n",
    "X = np.vstack([cat1, cat2, cat3])\n",
    "\n",
    "labels = np.array([0] * 800 + [1] * 800 + [2] * 800)\n",
    "\n",
    "y = np.zeros((2400, 3))\n",
    "\n",
    "for i in range(2400):\n",
    "    y[i, labels[i]] = 1"
   ]
  },
  {
   "cell_type": "code",
   "execution_count": 110,
   "metadata": {},
   "outputs": [
    {
     "name": "stdout",
     "output_type": "stream",
     "text": [
      "(2400, 2)\n",
      "(2400, 3)\n"
     ]
    }
   ],
   "source": [
    "print(X.shape)\n",
    "print(y.shape)"
   ]
  },
  {
   "attachments": {},
   "cell_type": "markdown",
   "metadata": {},
   "source": [
    "<p>Plotting the dataset</p>"
   ]
  },
  {
   "cell_type": "code",
   "execution_count": 111,
   "metadata": {},
   "outputs": [
    {
     "name": "stderr",
     "output_type": "stream",
     "text": [
      "/tmp/ipykernel_9030/4141091622.py:5: UserWarning: No data for colormapping provided via 'c'. Parameters 'cmap' will be ignored\n",
      "  plt.scatter(x1, x2, c=y, cmap=plt.cm.coolwarm)\n"
     ]
    },
    {
     "data": {
      "text/plain": [
       "<matplotlib.collections.PathCollection at 0x7f65a8b099c0>"
      ]
     },
     "execution_count": 111,
     "metadata": {},
     "output_type": "execute_result"
    },
    {
     "data": {
      "image/png": "[encoded data removed]",
      "text/plain": [
       "<Figure size 1000x700 with 1 Axes>"
      ]
     },
     "metadata": {},
     "output_type": "display_data"
    }
   ],
   "source": [
    "x1 = X[:, 0]\n",
    "x2 = X[:, 1]\n",
    "\n",
    "plt.figure(figsize=(10, 7))\n",
    "plt.scatter(x1, x2, c=y, cmap=plt.cm.coolwarm)"
   ]
  }
 ],
 "metadata": {
  "kernelspec": {
   "display_name": "numpy",
   "language": "python",
   "name": "python3"
  },
  "language_info": {
   "codemirror_mode": {
    "name": "ipython",
    "version": 3
   },
   "file_extension": ".py",
   "mimetype": "text/x-python",
   "name": "python",
   "nbconvert_exporter": "python",
   "pygments_lexer": "ipython3",
   "version": "3.10.6"
  },
  "orig_nbformat": 4
 },
 "nbformat": 4,
 "nbformat_minor": 2
}
